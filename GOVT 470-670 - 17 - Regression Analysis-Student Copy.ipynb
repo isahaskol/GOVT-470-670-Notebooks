{
 "cells": [
  {
   "cell_type": "code",
   "execution_count": 107,
   "id": "d80e5e0e",
   "metadata": {},
   "outputs": [],
   "source": [
    "# Importing Libraries\n",
    "\n",
    "import numpy as np\n",
    "import pandas as pd\n",
    "import matplotlib.pyplot as plt\n",
    "%matplotlib inline\n",
    "import seaborn as sns\n",
    "from sklearn import linear_model\n",
    "from sklearn.linear_model import LinearRegression\n",
    "from sklearn.metrics import r2_score"
   ]
  },
  {
   "cell_type": "code",
   "execution_count": 108,
   "id": "e69e03fc",
   "metadata": {},
   "outputs": [
    {
     "data": {
      "text/html": [
       "<div>\n",
       "<style scoped>\n",
       "    .dataframe tbody tr th:only-of-type {\n",
       "        vertical-align: middle;\n",
       "    }\n",
       "\n",
       "    .dataframe tbody tr th {\n",
       "        vertical-align: top;\n",
       "    }\n",
       "\n",
       "    .dataframe thead th {\n",
       "        text-align: right;\n",
       "    }\n",
       "</style>\n",
       "<table border=\"1\" class=\"dataframe\">\n",
       "  <thead>\n",
       "    <tr style=\"text-align: right;\">\n",
       "      <th></th>\n",
       "      <th>area</th>\n",
       "      <th>price</th>\n",
       "    </tr>\n",
       "  </thead>\n",
       "  <tbody>\n",
       "    <tr>\n",
       "      <th>0</th>\n",
       "      <td>2600</td>\n",
       "      <td>550000</td>\n",
       "    </tr>\n",
       "    <tr>\n",
       "      <th>1</th>\n",
       "      <td>3000</td>\n",
       "      <td>564000</td>\n",
       "    </tr>\n",
       "    <tr>\n",
       "      <th>2</th>\n",
       "      <td>3200</td>\n",
       "      <td>610000</td>\n",
       "    </tr>\n",
       "    <tr>\n",
       "      <th>3</th>\n",
       "      <td>3600</td>\n",
       "      <td>680000</td>\n",
       "    </tr>\n",
       "    <tr>\n",
       "      <th>4</th>\n",
       "      <td>4000</td>\n",
       "      <td>725000</td>\n",
       "    </tr>\n",
       "  </tbody>\n",
       "</table>\n",
       "</div>"
      ],
      "text/plain": [
       "   area   price\n",
       "0  2600  550000\n",
       "1  3000  564000\n",
       "2  3200  610000\n",
       "3  3600  680000\n",
       "4  4000  725000"
      ]
     },
     "execution_count": 108,
     "metadata": {},
     "output_type": "execute_result"
    }
   ],
   "source": [
    "pd.read_csv(\"/Users/ihaskol/Desktop/Python/0_GOVT 470-670/Datasets/price.csv\")"
   ]
  },
  {
   "cell_type": "code",
   "execution_count": 109,
   "id": "e34604a7",
   "metadata": {},
   "outputs": [],
   "source": [
    "house = pd.read_csv(\"/Users/ihaskol/Desktop/Python/0_GOVT 470-670/Datasets/price.csv\")"
   ]
  },
  {
   "cell_type": "code",
   "execution_count": 110,
   "id": "a2df2c3b",
   "metadata": {},
   "outputs": [
    {
     "data": {
      "text/html": [
       "<div>\n",
       "<style scoped>\n",
       "    .dataframe tbody tr th:only-of-type {\n",
       "        vertical-align: middle;\n",
       "    }\n",
       "\n",
       "    .dataframe tbody tr th {\n",
       "        vertical-align: top;\n",
       "    }\n",
       "\n",
       "    .dataframe thead th {\n",
       "        text-align: right;\n",
       "    }\n",
       "</style>\n",
       "<table border=\"1\" class=\"dataframe\">\n",
       "  <thead>\n",
       "    <tr style=\"text-align: right;\">\n",
       "      <th></th>\n",
       "      <th>area</th>\n",
       "      <th>price</th>\n",
       "    </tr>\n",
       "  </thead>\n",
       "  <tbody>\n",
       "    <tr>\n",
       "      <th>count</th>\n",
       "      <td>5.000000</td>\n",
       "      <td>5.000000</td>\n",
       "    </tr>\n",
       "    <tr>\n",
       "      <th>mean</th>\n",
       "      <td>3280.000000</td>\n",
       "      <td>625800.000000</td>\n",
       "    </tr>\n",
       "    <tr>\n",
       "      <th>std</th>\n",
       "      <td>540.370243</td>\n",
       "      <td>75154.507516</td>\n",
       "    </tr>\n",
       "    <tr>\n",
       "      <th>min</th>\n",
       "      <td>2600.000000</td>\n",
       "      <td>550000.000000</td>\n",
       "    </tr>\n",
       "    <tr>\n",
       "      <th>25%</th>\n",
       "      <td>3000.000000</td>\n",
       "      <td>564000.000000</td>\n",
       "    </tr>\n",
       "    <tr>\n",
       "      <th>50%</th>\n",
       "      <td>3200.000000</td>\n",
       "      <td>610000.000000</td>\n",
       "    </tr>\n",
       "    <tr>\n",
       "      <th>75%</th>\n",
       "      <td>3600.000000</td>\n",
       "      <td>680000.000000</td>\n",
       "    </tr>\n",
       "    <tr>\n",
       "      <th>max</th>\n",
       "      <td>4000.000000</td>\n",
       "      <td>725000.000000</td>\n",
       "    </tr>\n",
       "  </tbody>\n",
       "</table>\n",
       "</div>"
      ],
      "text/plain": [
       "              area          price\n",
       "count     5.000000       5.000000\n",
       "mean   3280.000000  625800.000000\n",
       "std     540.370243   75154.507516\n",
       "min    2600.000000  550000.000000\n",
       "25%    3000.000000  564000.000000\n",
       "50%    3200.000000  610000.000000\n",
       "75%    3600.000000  680000.000000\n",
       "max    4000.000000  725000.000000"
      ]
     },
     "execution_count": 110,
     "metadata": {},
     "output_type": "execute_result"
    }
   ],
   "source": [
    "house.describe()"
   ]
  },
  {
   "cell_type": "code",
   "execution_count": 111,
   "id": "fc31f54a",
   "metadata": {},
   "outputs": [
    {
     "data": {
      "text/plain": [
       "<AxesSubplot:>"
      ]
     },
     "execution_count": 111,
     "metadata": {},
     "output_type": "execute_result"
    },
    {
     "data": {
      "image/png": "[encoded data removed]",
      "text/plain": [
       "<Figure size 432x288 with 2 Axes>"
      ]
     },
     "metadata": {
      "needs_background": "light"
     },
     "output_type": "display_data"
    }
   ],
   "source": [
    "sns.heatmap(house.corr())"
   ]
  },
  {
   "cell_type": "code",
   "execution_count": 112,
   "id": "8340a8ba",
   "metadata": {},
   "outputs": [
    {
     "data": {
      "text/plain": [
       "<matplotlib.collections.PathCollection at 0x7f8ba81a2880>"
      ]
     },
     "execution_count": 112,
     "metadata": {},
     "output_type": "execute_result"
    },
    {
     "data": {
      "image/png": "[encoded data removed]",
      "text/plain": [
       "<Figure size 432x288 with 1 Axes>"
      ]
     },
     "metadata": {
      "needs_background": "light"
     },
     "output_type": "display_data"
    }
   ],
   "source": [
    "plt.scatter(house.area, house.price)"
   ]
  },
  {
   "cell_type": "code",
   "execution_count": 113,
   "id": "0ffeab58",
   "metadata": {},
   "outputs": [
    {
     "data": {
      "text/plain": [
       "<matplotlib.collections.PathCollection at 0x7f8be841aca0>"
      ]
     },
     "execution_count": 113,
     "metadata": {},
     "output_type": "execute_result"
    },
    {
     "data": {
      "image/png": "[encoded data removed]",
      "text/plain": [
       "<Figure size 432x288 with 1 Axes>"
      ]
     },
     "metadata": {
      "needs_background": "light"
     },
     "output_type": "display_data"
    }
   ],
   "source": [
    "plt.xlabel(\"Area(sq ft)\")\n",
    "plt.ylabel(\"Price($)\")\n",
    "plt.scatter(house.area, house.price, color =\"red\", marker =\"*\")"
   ]
  },
  {
   "cell_type": "code",
   "execution_count": 120,
   "id": "9a159c9f",
   "metadata": {},
   "outputs": [
    {
     "data": {
      "text/plain": [
       "LinearRegression()"
      ]
     },
     "execution_count": 120,
     "metadata": {},
     "output_type": "execute_result"
    }
   ],
   "source": [
    "# let's start linear regression:\n",
    "reg = LinearRegression()\n",
    "\n",
    "# fitting means we are training the model using the available data\n",
    "reg.fit(house[['area']],house[['price']])"
   ]
  },
  {
   "cell_type": "code",
   "execution_count": 121,
   "id": "3f4f7d50",
   "metadata": {},
   "outputs": [
    {
     "name": "stdout",
     "output_type": "stream",
     "text": [
      "[179630.1369863]\n"
     ]
    }
   ],
   "source": [
    "print(reg.intercept_)"
   ]
  },
  {
   "cell_type": "code",
   "execution_count": 122,
   "id": "f4b0ccaf",
   "metadata": {},
   "outputs": [
    {
     "name": "stdout",
     "output_type": "stream",
     "text": [
      "[[136.02739726]]\n"
     ]
    }
   ],
   "source": [
    "print(reg.coef_)"
   ]
  },
  {
   "cell_type": "code",
   "execution_count": 140,
   "id": "a7a0b4d6",
   "metadata": {},
   "outputs": [
    {
     "data": {
      "text/plain": [
       "[<matplotlib.lines.Line2D at 0x7f8bcb42bee0>]"
      ]
     },
     "execution_count": 140,
     "metadata": {},
     "output_type": "execute_result"
    },
    {
     "data": {
      "image/png": "[encoded data removed]",
      "text/plain": [
       "<Figure size 432x288 with 1 Axes>"
      ]
     },
     "metadata": {
      "needs_background": "light"
     },
     "output_type": "display_data"
    }
   ],
   "source": [
    "# let's add the linear regression line:\n",
    "plt.xlabel(\"Area(sq ft)\")\n",
    "plt.ylabel(\"Price($)\")\n",
    "plt.scatter(house.area, house.price, color =\"red\", marker =\"*\")\n",
    "\n",
    "plt.plot(house.area, reg.predict(house[['area']]), color =\"blue\")"
   ]
  },
  {
   "cell_type": "code",
   "execution_count": 125,
   "id": "ec507c3d",
   "metadata": {},
   "outputs": [
    {
     "data": {
      "text/plain": [
       "array([[628520.54794521]])"
      ]
     },
     "execution_count": 125,
     "metadata": {},
     "output_type": "execute_result"
    }
   ],
   "source": [
    "#Now our regression model is ready to predict profits \n",
    "#according to the RD Spend:\n",
    "# Let's predict:\n",
    "reg.predict([[3300]])"
   ]
  },
  {
   "cell_type": "code",
   "execution_count": 141,
   "id": "c091fcb7",
   "metadata": {},
   "outputs": [],
   "source": [
    "# let's guess new values for houses:\n",
    "p2 = pd.read_csv(\"/Users/ihaskol/Desktop/Python/0_GOVT 470-670/Datasets/price2.csv\")"
   ]
  },
  {
   "cell_type": "code",
   "execution_count": 142,
   "id": "fe74cadd",
   "metadata": {},
   "outputs": [
    {
     "data": {
      "text/html": [
       "<div>\n",
       "<style scoped>\n",
       "    .dataframe tbody tr th:only-of-type {\n",
       "        vertical-align: middle;\n",
       "    }\n",
       "\n",
       "    .dataframe tbody tr th {\n",
       "        vertical-align: top;\n",
       "    }\n",
       "\n",
       "    .dataframe thead th {\n",
       "        text-align: right;\n",
       "    }\n",
       "</style>\n",
       "<table border=\"1\" class=\"dataframe\">\n",
       "  <thead>\n",
       "    <tr style=\"text-align: right;\">\n",
       "      <th></th>\n",
       "      <th>area</th>\n",
       "    </tr>\n",
       "  </thead>\n",
       "  <tbody>\n",
       "    <tr>\n",
       "      <th>0</th>\n",
       "      <td>1600</td>\n",
       "    </tr>\n",
       "    <tr>\n",
       "      <th>1</th>\n",
       "      <td>1200</td>\n",
       "    </tr>\n",
       "    <tr>\n",
       "      <th>2</th>\n",
       "      <td>1300</td>\n",
       "    </tr>\n",
       "    <tr>\n",
       "      <th>3</th>\n",
       "      <td>4500</td>\n",
       "    </tr>\n",
       "    <tr>\n",
       "      <th>4</th>\n",
       "      <td>3230</td>\n",
       "    </tr>\n",
       "    <tr>\n",
       "      <th>5</th>\n",
       "      <td>4400</td>\n",
       "    </tr>\n",
       "    <tr>\n",
       "      <th>6</th>\n",
       "      <td>7000</td>\n",
       "    </tr>\n",
       "    <tr>\n",
       "      <th>7</th>\n",
       "      <td>5500</td>\n",
       "    </tr>\n",
       "    <tr>\n",
       "      <th>8</th>\n",
       "      <td>2100</td>\n",
       "    </tr>\n",
       "    <tr>\n",
       "      <th>9</th>\n",
       "      <td>1000</td>\n",
       "    </tr>\n",
       "    <tr>\n",
       "      <th>10</th>\n",
       "      <td>6200</td>\n",
       "    </tr>\n",
       "  </tbody>\n",
       "</table>\n",
       "</div>"
      ],
      "text/plain": [
       "    area\n",
       "0   1600\n",
       "1   1200\n",
       "2   1300\n",
       "3   4500\n",
       "4   3230\n",
       "5   4400\n",
       "6   7000\n",
       "7   5500\n",
       "8   2100\n",
       "9   1000\n",
       "10  6200"
      ]
     },
     "execution_count": 142,
     "metadata": {},
     "output_type": "execute_result"
    }
   ],
   "source": [
    "p2"
   ]
  },
  {
   "cell_type": "code",
   "execution_count": 143,
   "id": "2d83fe2c",
   "metadata": {},
   "outputs": [
    {
     "data": {
      "text/plain": [
       "array([[ 397273.97260274],\n",
       "       [ 342863.01369863],\n",
       "       [ 356465.75342466],\n",
       "       [ 791753.42465753],\n",
       "       [ 618998.63013699],\n",
       "       [ 778150.68493151],\n",
       "       [1131821.91780822],\n",
       "       [ 927780.82191781],\n",
       "       [ 465287.67123288],\n",
       "       [ 315657.53424658],\n",
       "       [1023000.        ]])"
      ]
     },
     "execution_count": 143,
     "metadata": {},
     "output_type": "execute_result"
    }
   ],
   "source": [
    "reg.predict(p2)"
   ]
  },
  {
   "cell_type": "code",
   "execution_count": 144,
   "id": "d008d0ef",
   "metadata": {},
   "outputs": [],
   "source": [
    "p = reg.predict(p2)"
   ]
  },
  {
   "cell_type": "code",
   "execution_count": 145,
   "id": "a75056ba",
   "metadata": {},
   "outputs": [],
   "source": [
    "#create a new column in our csv file for the predicted prices:\n",
    "p2['value'] = p"
   ]
  },
  {
   "cell_type": "code",
   "execution_count": 146,
   "id": "a2846ee8",
   "metadata": {},
   "outputs": [
    {
     "data": {
      "text/html": [
       "<div>\n",
       "<style scoped>\n",
       "    .dataframe tbody tr th:only-of-type {\n",
       "        vertical-align: middle;\n",
       "    }\n",
       "\n",
       "    .dataframe tbody tr th {\n",
       "        vertical-align: top;\n",
       "    }\n",
       "\n",
       "    .dataframe thead th {\n",
       "        text-align: right;\n",
       "    }\n",
       "</style>\n",
       "<table border=\"1\" class=\"dataframe\">\n",
       "  <thead>\n",
       "    <tr style=\"text-align: right;\">\n",
       "      <th></th>\n",
       "      <th>area</th>\n",
       "      <th>value</th>\n",
       "    </tr>\n",
       "  </thead>\n",
       "  <tbody>\n",
       "    <tr>\n",
       "      <th>0</th>\n",
       "      <td>1600</td>\n",
       "      <td>3.972740e+05</td>\n",
       "    </tr>\n",
       "    <tr>\n",
       "      <th>1</th>\n",
       "      <td>1200</td>\n",
       "      <td>3.428630e+05</td>\n",
       "    </tr>\n",
       "    <tr>\n",
       "      <th>2</th>\n",
       "      <td>1300</td>\n",
       "      <td>3.564658e+05</td>\n",
       "    </tr>\n",
       "    <tr>\n",
       "      <th>3</th>\n",
       "      <td>4500</td>\n",
       "      <td>7.917534e+05</td>\n",
       "    </tr>\n",
       "    <tr>\n",
       "      <th>4</th>\n",
       "      <td>3230</td>\n",
       "      <td>6.189986e+05</td>\n",
       "    </tr>\n",
       "    <tr>\n",
       "      <th>5</th>\n",
       "      <td>4400</td>\n",
       "      <td>7.781507e+05</td>\n",
       "    </tr>\n",
       "    <tr>\n",
       "      <th>6</th>\n",
       "      <td>7000</td>\n",
       "      <td>1.131822e+06</td>\n",
       "    </tr>\n",
       "    <tr>\n",
       "      <th>7</th>\n",
       "      <td>5500</td>\n",
       "      <td>9.277808e+05</td>\n",
       "    </tr>\n",
       "    <tr>\n",
       "      <th>8</th>\n",
       "      <td>2100</td>\n",
       "      <td>4.652877e+05</td>\n",
       "    </tr>\n",
       "    <tr>\n",
       "      <th>9</th>\n",
       "      <td>1000</td>\n",
       "      <td>3.156575e+05</td>\n",
       "    </tr>\n",
       "    <tr>\n",
       "      <th>10</th>\n",
       "      <td>6200</td>\n",
       "      <td>1.023000e+06</td>\n",
       "    </tr>\n",
       "  </tbody>\n",
       "</table>\n",
       "</div>"
      ],
      "text/plain": [
       "    area         value\n",
       "0   1600  3.972740e+05\n",
       "1   1200  3.428630e+05\n",
       "2   1300  3.564658e+05\n",
       "3   4500  7.917534e+05\n",
       "4   3230  6.189986e+05\n",
       "5   4400  7.781507e+05\n",
       "6   7000  1.131822e+06\n",
       "7   5500  9.277808e+05\n",
       "8   2100  4.652877e+05\n",
       "9   1000  3.156575e+05\n",
       "10  6200  1.023000e+06"
      ]
     },
     "execution_count": 146,
     "metadata": {},
     "output_type": "execute_result"
    }
   ],
   "source": [
    "p2"
   ]
  },
  {
   "cell_type": "code",
   "execution_count": 147,
   "id": "9ee0ec47",
   "metadata": {},
   "outputs": [
    {
     "data": {
      "text/plain": [
       "'/Users/ihaskol/Desktop/Python/0_GOVT 470-670/Datasets'"
      ]
     },
     "execution_count": 147,
     "metadata": {},
     "output_type": "execute_result"
    }
   ],
   "source": [
    "pwd"
   ]
  },
  {
   "cell_type": "code",
   "execution_count": 133,
   "id": "018dc4bf",
   "metadata": {},
   "outputs": [
    {
     "name": "stdout",
     "output_type": "stream",
     "text": [
      "/Users/ihaskol/Desktop/Python/0_GOVT 470-670/Datasets\n"
     ]
    }
   ],
   "source": [
    "cd Datasets"
   ]
  },
  {
   "cell_type": "code",
   "execution_count": 134,
   "id": "d3d98e45",
   "metadata": {},
   "outputs": [
    {
     "data": {
      "text/plain": [
       "'/Users/ihaskol/Desktop/Python/0_GOVT 470-670/Datasets'"
      ]
     },
     "execution_count": 134,
     "metadata": {},
     "output_type": "execute_result"
    }
   ],
   "source": [
    "pwd"
   ]
  },
  {
   "cell_type": "code",
   "execution_count": 148,
   "id": "606da999",
   "metadata": {},
   "outputs": [],
   "source": [
    "p2.to_csv(\"price_predicted.csv\")"
   ]
  },
  {
   "cell_type": "code",
   "execution_count": 149,
   "id": "41857151",
   "metadata": {},
   "outputs": [],
   "source": [
    "p2.to_csv(\"price_predicted.csv\", index = False)"
   ]
  },
  {
   "cell_type": "code",
   "execution_count": null,
   "id": "f583dcd3",
   "metadata": {},
   "outputs": [],
   "source": []
  }
 ],
 "metadata": {
  "kernelspec": {
   "display_name": "Python 3",
   "language": "python",
   "name": "python3"
  },
  "language_info": {
   "codemirror_mode": {
    "name": "ipython",
    "version": 3
   },
   "file_extension": ".py",
   "mimetype": "text/x-python",
   "name": "python",
   "nbconvert_exporter": "python",
   "pygments_lexer": "ipython3",
   "version": "3.8.8"
  }
 },
 "nbformat": 4,
 "nbformat_minor": 5
}
